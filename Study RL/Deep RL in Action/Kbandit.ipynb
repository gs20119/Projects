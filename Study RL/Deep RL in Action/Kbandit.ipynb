{
 "cells": [
  {
   "cell_type": "code",
   "execution_count": 1,
   "metadata": {},
   "outputs": [],
   "source": [
    "import numpy as np\n",
    "import random\n",
    "import matplotlib.pyplot as plt"
   ]
  },
  {
   "cell_type": "code",
   "execution_count": 29,
   "metadata": {},
   "outputs": [],
   "source": [
    "from IPython.core.interactiveshell import InteractiveShell\n",
    "InteractiveShell.ast_node_interactivity = \"last\""
   ]
  },
  {
   "cell_type": "code",
   "execution_count": 16,
   "metadata": {},
   "outputs": [],
   "source": [
    "def get_reward(probs, action, K=10): # (1) 보상 지급 \n",
    "    reward = 0\n",
    "    for i in range(K):\n",
    "        reward += 1 if random.random() < probs[action] else 0 # 보상 결정\n",
    "    return reward"
   ]
  },
  {
   "cell_type": "code",
   "execution_count": 6,
   "metadata": {},
   "outputs": [],
   "source": [
    "def update(memory, action, reward): # (2) 데이터 갱신\n",
    "    [num, average_old] = memory[action]\n",
    "    average = (num * average_old + reward) / (num+1)\n",
    "    memory[action] = [num+1, average]\n",
    "    return memory"
   ]
  },
  {
   "cell_type": "code",
   "execution_count": 13,
   "metadata": {},
   "outputs": [],
   "source": [
    "def exploit(memory): # (3) 행동 선택 \n",
    "    action_best = np.argmax(memory[:,1],axis=0) # 평균보상의 최대\n",
    "    return action_best"
   ]
  },
  {
   "cell_type": "code",
   "execution_count": 37,
   "metadata": {},
   "outputs": [
    {
     "data": {
      "text/plain": [
       "<matplotlib.collections.PathCollection at 0x2c7d0c16d30>"
      ]
     },
     "execution_count": 37,
     "metadata": {},
     "output_type": "execute_result"
    },
    {
     "data": {
      "image/png": "[encoded data removed]",
      "text/plain": [
       "<Figure size 432x288 with 1 Axes>"
      ]
     },
     "metadata": {
      "needs_background": "light"
     },
     "output_type": "display_data"
    }
   ],
   "source": [
    "fig, ax = plt.subplots(1,1)\n",
    "ax.set_xlabel(\"Plays\")\n",
    "ax.set_ylabel(\"Avg Reward\")\n",
    "\n",
    "K = 10 # K armed bandit / nonstationary\n",
    "probs = np.random.rand(K) \n",
    "memory = np.zeros((K,2))\n",
    "eps = 0.1\n",
    "averages = [0] \n",
    "iteration = 500\n",
    "\n",
    "for i in range(iteration):    \n",
    "    action = ( \n",
    "        exploit(memory) if random.random() > eps # 90% 평균보상 최대 / 10% 랜덤\n",
    "        else np.random.randint(K) )\n",
    "    reward = get_reward(probs, action, K)\n",
    "    memory = update(memory, action, reward) \n",
    "    \n",
    "    average = ((i+1) * averages[-1] + reward) / (i+2)\n",
    "    averages.append(average)\n",
    "    \n",
    "ax.scatter(np.arange(len(averages)), averages)"
   ]
  },
  {
   "cell_type": "code",
   "execution_count": 31,
   "metadata": {},
   "outputs": [],
   "source": [
    "def softmax(values, tau=1.12):\n",
    "    soft = np.exp(values / tau)\n",
    "    soft /= np.sum(soft)\n",
    "    return soft"
   ]
  },
  {
   "cell_type": "code",
   "execution_count": 35,
   "metadata": {},
   "outputs": [
    {
     "data": {
      "text/plain": [
       "<matplotlib.collections.PathCollection at 0x2c7ee74e9d0>"
      ]
     },
     "execution_count": 35,
     "metadata": {},
     "output_type": "execute_result"
    },
    {
     "data": {
      "image/png": "[encoded data removed]",
      "text/plain": [
       "<Figure size 432x288 with 1 Axes>"
      ]
     },
     "metadata": {
      "needs_background": "light"
     },
     "output_type": "display_data"
    }
   ],
   "source": [
    "fig, ax = plt.subplots(1,1)\n",
    "ax.set_xlabel(\"Plays\")\n",
    "ax.set_ylabel(\"Avg Reward\")\n",
    "\n",
    "K = 10 # K armed bandit / nonstationary\n",
    "probs = np.random.rand(K) \n",
    "memory = np.zeros((K,2))\n",
    "eps = 0.1\n",
    "averages = [0]\n",
    "iteration = 500\n",
    "\n",
    "for i in range(iteration): # 행동 선택을 개선함 \n",
    "    p = softmax(memory[:,1])\n",
    "    action = np.random.choice(np.arange(K), p=p) # 평균보상에 비례하는 소프트맥스 확률\n",
    "    reward = get_reward(probs, action, K)\n",
    "    memory = update(memory, action, reward) \n",
    "    \n",
    "    average = ((i+1) * averages[-1] + reward) / (i+2)\n",
    "    averages.append(average)\n",
    "    \n",
    "ax.scatter(np.arange(len(averages)), averages)"
   ]
  }
 ],
 "metadata": {
  "kernelspec": {
   "display_name": "Python 3",
   "language": "python",
   "name": "python3"
  },
  "language_info": {
   "codemirror_mode": {
    "name": "ipython",
    "version": 3
   },
   "file_extension": ".py",
   "mimetype": "text/x-python",
   "name": "python",
   "nbconvert_exporter": "python",
   "pygments_lexer": "ipython3",
   "version": "3.8.3"
  }
 },
 "nbformat": 4,
 "nbformat_minor": 4
}
