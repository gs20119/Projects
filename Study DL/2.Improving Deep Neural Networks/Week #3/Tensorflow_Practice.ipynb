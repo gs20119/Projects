{
 "cells": [
  {
   "cell_type": "code",
   "execution_count": 9,
   "metadata": {},
   "outputs": [],
   "source": [
    "import numpy as np\n",
    "import tensorflow.compat.v1 as tf\n",
    "import matplotlib.pyplot as plt"
   ]
  },
  {
   "cell_type": "code",
   "execution_count": 18,
   "metadata": {},
   "outputs": [
    {
     "name": "stdout",
     "output_type": "stream",
     "text": [
      "0.0\n"
     ]
    }
   ],
   "source": [
    "tf.disable_v2_behavior()\n",
    "coef = np.array([[1.],[-20.],[100.]]) # 계수 배열 생성\n",
    "\n",
    "W = tf.Variable(0,dtype=tf.float32)\n",
    "X = tf.placeholder(tf.float32,[3,1]) # X는 tf에서 쓸 계수 배열\n",
    "\n",
    "# cost = tf.add(tf.add(W**2,tf.multiply(-20.,W)),100)  \n",
    "# W**2 - 20*W + 100\n",
    "cost = X[0][0]*(W**2) + X[1][0]*(W) + X[2][0]\n",
    "train = tf.train.GradientDescentOptimizer(0.01).minimize(cost)  # Grad Desc with learning_rate 0.01 \n",
    "\n",
    "init = tf.global_variables_initializer()  # init all tf variables\n",
    "session = tf.Session()\n",
    "session.run(init)  # 1 initialization step\n",
    "print(session.run(W))  # print tf variable W in current session"
   ]
  },
  {
   "cell_type": "code",
   "execution_count": 20,
   "metadata": {},
   "outputs": [
    {
     "name": "stdout",
     "output_type": "stream",
     "text": [
      "0.19999999\n"
     ]
    }
   ],
   "source": [
    "session.run(train, feed_dict={X:coef}) # X에 coef 먹인 상태로 시작\n",
    "print(session.run(W))"
   ]
  },
  {
   "cell_type": "code",
   "execution_count": 21,
   "metadata": {},
   "outputs": [
    {
     "name": "stdout",
     "output_type": "stream",
     "text": [
      "8.700328\n"
     ]
    }
   ],
   "source": [
    "for i in range(100):\n",
    "    session.run(train, feed_dict={X:coef})\n",
    "print(session.run(W))"
   ]
  },
  {
   "cell_type": "code",
   "execution_count": 22,
   "metadata": {},
   "outputs": [
    {
     "name": "stdout",
     "output_type": "stream",
     "text": [
      "9.999976\n"
     ]
    }
   ],
   "source": [
    "for i in range(1000):\n",
    "    session.run(train, feed_dict={X:coef})\n",
    "print(session.run(W))"
   ]
  }
 ],
 "metadata": {
  "kernelspec": {
   "display_name": "Python 3",
   "language": "python",
   "name": "python3"
  },
  "language_info": {
   "codemirror_mode": {
    "name": "ipython",
    "version": 3
   },
   "file_extension": ".py",
   "mimetype": "text/x-python",
   "name": "python",
   "nbconvert_exporter": "python",
   "pygments_lexer": "ipython3",
   "version": "3.8.3"
  }
 },
 "nbformat": 4,
 "nbformat_minor": 4
}
